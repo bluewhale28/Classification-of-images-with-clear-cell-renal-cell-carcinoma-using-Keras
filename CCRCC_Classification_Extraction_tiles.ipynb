{
  "cells": [
    {
      "cell_type": "code",
      "execution_count": null,
      "id": "d5a5cba6",
      "metadata": {
        "id": "d5a5cba6"
      },
      "outputs": [],
      "source": [
        "import openslide\n",
        "import geojson\n",
        "from tile_extractor import extract_tiles, get_files_from_dir"
      ]
    },
    {
      "cell_type": "markdown",
      "id": "40769915",
      "metadata": {
        "id": "40769915"
      },
      "source": [
        "# Processing slides to tiles"
      ]
    },
    {
      "cell_type": "markdown",
      "id": "8364a646",
      "metadata": {
        "id": "8364a646"
      },
      "source": [
        "## a) Extract Train tiles"
      ]
    },
    {
      "cell_type": "code",
      "execution_count": null,
      "id": "8d7002b9",
      "metadata": {
        "scrolled": true,
        "id": "8d7002b9"
      },
      "outputs": [],
      "source": [
        "#Train\n",
        "wsi_path_train = r'E:\\DS project\\Kidney - CCRCC classification\\DATASET\\WSI\\New train'\n",
        "geojson_path_train = r'E:\\DS project\\Kidney - CCRCC classification\\DATASET\\json\\New_train'\n",
        "\n",
        "wsi_files_train = get_files_from_dir(wsi_path_train)\n",
        "geo_files_train = get_files_from_dir(geojson_path_train)"
      ]
    },
    {
      "cell_type": "code",
      "execution_count": null,
      "id": "2c2556dc",
      "metadata": {
        "scrolled": true,
        "id": "2c2556dc"
      },
      "outputs": [],
      "source": [
        "# Extract Train tiles\n",
        "path_to_save = 'E:\\DS project\\Kidney - CCRCC classification\\DATASET\\playground\\Tiles\\Train'\n",
        "extract_tiles(wsi_files_train, geo_files_train, path_to_save)"
      ]
    },
    {
      "cell_type": "markdown",
      "id": "c07e6354",
      "metadata": {
        "id": "c07e6354"
      },
      "source": [
        "## b) Extract Validation tiles"
      ]
    },
    {
      "cell_type": "code",
      "execution_count": null,
      "id": "1b5e30ae",
      "metadata": {
        "id": "1b5e30ae"
      },
      "outputs": [],
      "source": [
        "# Validation\n",
        "wsi_path_val = r'E:\\DS project\\Kidney - CCRCC classification\\DATASET\\WSI\\Validation\\New'\n",
        "geojson_path_val = r'E:\\DS project\\Kidney - CCRCC classification\\DATASET\\json\\Validation\\New'\n",
        "\n",
        "wsi_files_val = get_files_from_dir(wsi_path_val)\n",
        "geo_files_val = get_files_from_dir(geojson_path_val)"
      ]
    },
    {
      "cell_type": "code",
      "execution_count": null,
      "id": "84a1da9e",
      "metadata": {
        "scrolled": true,
        "id": "84a1da9e"
      },
      "outputs": [],
      "source": [
        "# Extract Validation tiles\n",
        "path_to_save_val = 'E:\\DS project\\Kidney - CCRCC classification\\DATASET\\playground\\Tiles\\Validation'\n",
        "extract_tiles(wsi_files_val, geo_files_val, path_to_save_val)"
      ]
    },
    {
      "cell_type": "markdown",
      "id": "92db49da",
      "metadata": {
        "id": "92db49da"
      },
      "source": [
        "# c) Extract Test files\n"
      ]
    },
    {
      "cell_type": "code",
      "execution_count": null,
      "id": "327ec06b",
      "metadata": {
        "id": "327ec06b"
      },
      "outputs": [],
      "source": [
        "# Test\n",
        "wsi_path_test = r'E:\\DS project\\Kidney - CCRCC classification\\DATASET\\WSI\\Test'\n",
        "geojson_path_test = r'E:\\DS project\\Kidney - CCRCC classification\\DATASET\\json\\Test'\n",
        "\n",
        "wsi_files_test = get_files_from_dir(wsi_path_test)\n",
        "geo_files_test = get_files_from_dir(geojson_path_test)"
      ]
    },
    {
      "cell_type": "code",
      "execution_count": null,
      "id": "6e8cf72d",
      "metadata": {
        "scrolled": true,
        "id": "6e8cf72d"
      },
      "outputs": [],
      "source": [
        "# Extract Test tiles\n",
        "path_to_save_test = 'E:\\DS project\\Kidney - CCRCC classification\\Tiles\\Test'\n",
        "extract_tiles(wsi_files_test_1, geo_files_test_1, path_to_save_test)"
      ]
    }
  ],
  "metadata": {
    "kernelspec": {
      "display_name": "Python 3 (ipykernel)",
      "language": "python",
      "name": "python3"
    },
    "language_info": {
      "codemirror_mode": {
        "name": "ipython",
        "version": 3
      },
      "file_extension": ".py",
      "mimetype": "text/x-python",
      "name": "python",
      "nbconvert_exporter": "python",
      "pygments_lexer": "ipython3",
      "version": "3.9.7"
    },
    "colab": {
      "name": "CCRCC Classification Extraction tiles.ipynb",
      "provenance": []
    }
  },
  "nbformat": 4,
  "nbformat_minor": 5
}