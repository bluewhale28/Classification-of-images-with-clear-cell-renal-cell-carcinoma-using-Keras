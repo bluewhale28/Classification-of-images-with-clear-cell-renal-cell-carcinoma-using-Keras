{
  "nbformat": 4,
  "nbformat_minor": 0,
  "metadata": {
    "colab": {
      "name": "CCRCC classification final.ipynb",
      "provenance": [],
      "collapsed_sections": []
    },
    "kernelspec": {
      "name": "python3",
      "display_name": "Python 3"
    },
    "language_info": {
      "name": "python"
    },
    "accelerator": "GPU"
  },
  "cells": [
    {
      "cell_type": "code",
      "execution_count": null,
      "metadata": {
        "id": "_mxljDlHyEMP"
      },
      "outputs": [],
      "source": [
        "# Unzip Train and Validation sets\n",
        "!unzip \"/content/drive/MyDrive/DS projects/CCRCC classification/Train.zip\" -d \"/content/Dataset\" \n",
        "!unzip \"/content/drive/MyDrive/DS projects/CCRCC classification/Validation.zip\" -d \"/content/Dataset\""
      ]
    },
    {
      "cell_type": "code",
      "source": [
        "# Import libriaries\n",
        "import tensorflow as tf\n",
        "from tensorflow.keras.optimizers import Adam, SGD, RMSprop\n",
        "from keras.callbacks import ModelCheckpoint, Callback, EarlyStopping"
      ],
      "metadata": {
        "id": "1Reue0LYzEne"
      },
      "execution_count": null,
      "outputs": []
    },
    {
      "cell_type": "markdown",
      "source": [
        "**Dataset**"
      ],
      "metadata": {
        "id": "5Z4meZgmJVq_"
      }
    },
    {
      "cell_type": "code",
      "source": [
        "# Train dataset\n",
        "train_directory = '/content/Dataset/Train'\n",
        "class_names = ['Blood', 'CCRCC', 'Fat', 'Kidney', 'Stroma']\n",
        "\n",
        "train_data = tf.keras.preprocessing.image_dataset_from_directory(\n",
        "    train_directory,\n",
        "    labels=\"inferred\",\n",
        "    label_mode=\"categorical\",\n",
        "    class_names=class_names,\n",
        "    color_mode=\"rgb\",\n",
        "    batch_size=32,\n",
        "    image_size=(256, 256),\n",
        "    shuffle=True,\n",
        "    seed=42,\n",
        "    validation_split=None,\n",
        "    subset=None,\n",
        "    interpolation=\"bilinear\",\n",
        "    follow_links=False,\n",
        "    crop_to_aspect_ratio=False\n",
        ")"
      ],
      "metadata": {
        "colab": {
          "base_uri": "https://localhost:8080/"
        },
        "id": "_GOpZLpRzVhp",
        "outputId": "87ddcbf8-a93a-4303-d00d-4aed3d626171"
      },
      "execution_count": null,
      "outputs": [
        {
          "output_type": "stream",
          "name": "stdout",
          "text": [
            "Found 169506 files belonging to 5 classes.\n"
          ]
        }
      ]
    },
    {
      "cell_type": "code",
      "source": [
        "# Validation dataset\n",
        "val_directory = '/content/Dataset/Validation'\n",
        "val_data = tf.keras.preprocessing.image_dataset_from_directory(\n",
        "    val_directory,\n",
        "    labels=\"inferred\",\n",
        "    label_mode=\"categorical\",\n",
        "    class_names=class_names,\n",
        "    color_mode=\"rgb\",\n",
        "    batch_size=32,\n",
        "    image_size=(256, 256),\n",
        "    shuffle=True,\n",
        "    seed=42,\n",
        "    validation_split=None,\n",
        "    subset=None,\n",
        "    interpolation=\"bilinear\",\n",
        "    follow_links=False,\n",
        "    crop_to_aspect_ratio=False\n",
        ")"
      ],
      "metadata": {
        "colab": {
          "base_uri": "https://localhost:8080/"
        },
        "id": "x0ngIQ83zlS5",
        "outputId": "8f35a6e3-8db2-4908-b4b3-4fcd33df2b47"
      },
      "execution_count": null,
      "outputs": [
        {
          "output_type": "stream",
          "name": "stdout",
          "text": [
            "Found 45905 files belonging to 5 classes.\n"
          ]
        }
      ]
    },
    {
      "cell_type": "markdown",
      "source": [
        "**Model 1 : Inception V3**\n"
      ],
      "metadata": {
        "id": "Ougr6-2CJKPo"
      }
    },
    {
      "cell_type": "code",
      "source": [
        "# InceptionNet V3\n",
        "model = tf.keras.applications.InceptionV3(\n",
        "    include_top=True,\n",
        "    weights=None,\n",
        "    input_tensor=None,\n",
        "    input_shape=(256,256,3),\n",
        "    pooling=None,\n",
        "    classes=5,\n",
        "    classifier_activation=\"softmax\",\n",
        ")"
      ],
      "metadata": {
        "id": "rg3CO2uhzPcw"
      },
      "execution_count": null,
      "outputs": []
    },
    {
      "cell_type": "code",
      "source": [
        "opt = Adam(learning_rate=0.00001, decay=1e-5)\n",
        "es = EarlyStopping(patience=3)\n",
        "filepath_model_save = '/content/drive/MyDrive/DS projects/CCRCC classification/Model'\n",
        "chkpt = ModelCheckpoint(filepath = filepath_model_save, save_best_only=True, save_weights_only=False,\n",
        "                        mode='auto', save_freq= 'epoch')"
      ],
      "metadata": {
        "id": "k0k5WxCUzwic"
      },
      "execution_count": null,
      "outputs": []
    },
    {
      "cell_type": "code",
      "source": [
        "model.compile(loss='categorical_crossentropy', metrics=['accuracy',\n",
        "                                                        tf.keras.metrics.AUC(),\n",
        "                                                        tf.keras.metrics.AUC(curve = 'PR'),\n",
        "                                                        tf.keras.metrics.Precision(),\n",
        "                                                        tf.keras.metrics.Recall(),\n",
        "                                                        ], optimizer=opt)"
      ],
      "metadata": {
        "id": "H6epTm8e0CAd"
      },
      "execution_count": null,
      "outputs": []
    },
    {
      "cell_type": "code",
      "source": [
        "model.fit(train_data, epochs = 100, callbacks=[es, chkpt], validation_data = val_data )"
      ],
      "metadata": {
        "id": "ZF0HltiC1JAv"
      },
      "execution_count": null,
      "outputs": []
    },
    {
      "cell_type": "markdown",
      "source": [
        "**Model 2 : EfficientNetV2S**"
      ],
      "metadata": {
        "id": "qRSXeAGbfSr4"
      }
    },
    {
      "cell_type": "code",
      "source": [
        "model = tf.keras.applications.EfficientNetV2S(\n",
        "    include_top=True,\n",
        "    weights=None,\n",
        "    input_tensor=None,\n",
        "    input_shape=(256,256,3),\n",
        "    pooling=None,\n",
        "    classes=5,\n",
        "    classifier_activation=\"softmax\",\n",
        "    include_preprocessing=True,\n",
        ")"
      ],
      "metadata": {
        "id": "abz0_rbSfbop"
      },
      "execution_count": null,
      "outputs": []
    },
    {
      "cell_type": "code",
      "source": [
        "opt = Adam(learning_rate=0.00001, decay=1e-5)\n",
        "es = EarlyStopping(patience=5)\n",
        "filepath_model_save = '/content/drive/MyDrive/DS projects/CCRCC classification/EfficientNetV2S'\n",
        "chkpt = ModelCheckpoint(filepath = filepath_model_save, save_best_only=True, save_weights_only=False,\n",
        "                        mode='auto', save_freq= 'epoch')"
      ],
      "metadata": {
        "id": "uSV1ni1vgAoY"
      },
      "execution_count": null,
      "outputs": []
    },
    {
      "cell_type": "code",
      "source": [
        "model.compile(loss='categorical_crossentropy', metrics=['accuracy',\n",
        "                                                        tf.keras.metrics.AUC(name = 'ROC_AUC', multi_label = True, num_labels = 5),\n",
        "                                                        tf.keras.metrics.AUC(curve = 'PR', name = 'PR_AUC', multi_label = True, num_labels = 5 ),\n",
        "                                                        tf.keras.metrics.Precision(),\n",
        "                                                        tf.keras.metrics.Recall(),\n",
        "                                                        ], optimizer=opt)"
      ],
      "metadata": {
        "id": "-dx7XKq_gSgK"
      },
      "execution_count": null,
      "outputs": []
    },
    {
      "cell_type": "code",
      "source": [
        "model.fit(train_data, epochs = 100, callbacks=[es, chkpt], validation_data = val_data )"
      ],
      "metadata": {
        "id": "6EyAa1PvgmBN"
      },
      "execution_count": null,
      "outputs": []
    },
    {
      "cell_type": "markdown",
      "source": [
        "**Model 3 : ResNet101V2**\n"
      ],
      "metadata": {
        "id": "AeBlc175Dthp"
      }
    },
    {
      "cell_type": "code",
      "source": [
        "model = tf.keras.applications.ResNet101V2(\n",
        "    include_top=True,\n",
        "    weights=None,\n",
        "    input_tensor=None,\n",
        "    input_shape=(256,256,3),\n",
        "    pooling=None,\n",
        "    classes=5,\n",
        "    classifier_activation=\"softmax\",\n",
        ")"
      ],
      "metadata": {
        "id": "e1bgyh0aD-NF"
      },
      "execution_count": null,
      "outputs": []
    },
    {
      "cell_type": "code",
      "source": [
        "opt = Adam()\n",
        "#opt = Adam(learning_rate=0.00001, decay=1e-5)\n",
        "es = EarlyStopping(patience=5)\n",
        "filepath_model_save = '/content/drive/MyDrive/DS projects/CCRCC classification/ResNet101V2'\n",
        "chkpt = ModelCheckpoint(filepath = filepath_model_save, save_best_only=True, save_weights_only=False,\n",
        "                        mode='auto', save_freq= 'epoch')"
      ],
      "metadata": {
        "id": "VcgcyAQiEVuk"
      },
      "execution_count": null,
      "outputs": []
    },
    {
      "cell_type": "code",
      "source": [
        "model.compile(loss='categorical_crossentropy', metrics=['accuracy',\n",
        "                                                        tf.keras.metrics.AUC(name = 'ROC_AUC', multi_label = True, num_labels = 5),\n",
        "                                                        tf.keras.metrics.AUC(curve = 'PR', name = 'PR_AUC', multi_label = True, num_labels = 5 ),\n",
        "                                                        tf.keras.metrics.Precision(),\n",
        "                                                        tf.keras.metrics.Recall(),\n",
        "                                                        ], optimizer=opt)"
      ],
      "metadata": {
        "id": "bYTfJWplEnGv"
      },
      "execution_count": null,
      "outputs": []
    },
    {
      "cell_type": "code",
      "source": [
        "model.fit(train_data, epochs = 100, callbacks=[es, chkpt], validation_data = val_data )"
      ],
      "metadata": {
        "id": "3tJ7bVsnEpcO"
      },
      "execution_count": null,
      "outputs": []
    }
  ]
}